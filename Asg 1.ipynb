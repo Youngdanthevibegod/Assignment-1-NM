{
 "cells": [
  {
   "cell_type": "code",
   "execution_count": 95,
   "id": "fd987dea-3d80-43a5-9d32-1bc0f2d95284",
   "metadata": {},
   "outputs": [
    {
     "name": "stdin",
     "output_type": "stream",
     "text": [
      "input tendered:  100\n",
      "input cost:  36.57\n"
     ]
    },
    {
     "name": "stdout",
     "output_type": "stream",
     "text": [
      "63.43\n"
     ]
    }
   ],
   "source": [
    "tendered = float(input(\"input tendered: \"))\n",
    "cost = float(input(\"input cost: \"))\n",
    "change = tendered - cost\n",
    "print(change)"
   ]
  },
  {
   "cell_type": "code",
   "execution_count": 96,
   "id": "07750730-1145-4f23-b0c6-8249c4bea3f3",
   "metadata": {},
   "outputs": [],
   "source": [
    "penny = .01\n",
    "quarter =.25\n",
    "dime = .10\n",
    "nickel = .05"
   ]
  },
  {
   "cell_type": "code",
   "execution_count": 97,
   "id": "c7e7c669-4dbf-4ba2-8f32-e001de31e87f",
   "metadata": {},
   "outputs": [],
   "source": [
    "hundred = 100\n",
    "fifty = 50\n",
    "ten = 10\n",
    "twenty = 20\n",
    "five = 5\n",
    "one = 1"
   ]
  },
  {
   "cell_type": "code",
   "execution_count": 98,
   "id": "71127254-3586-4dbd-b01d-a7a594d648c9",
   "metadata": {},
   "outputs": [
    {
     "name": "stdout",
     "output_type": "stream",
     "text": [
      "63.43\n"
     ]
    }
   ],
   "source": [
    "num1 = change//hundred\n",
    "change = change - (num1 * 100)\n",
    "print(change)"
   ]
  },
  {
   "cell_type": "code",
   "execution_count": 99,
   "id": "c4b8ff40-7e76-4e07-816b-126868439960",
   "metadata": {},
   "outputs": [
    {
     "name": "stdout",
     "output_type": "stream",
     "text": [
      "13.43\n"
     ]
    }
   ],
   "source": [
    "num2 = change//fifty\n",
    "change = change - (num2 * 50)\n",
    "print(change)"
   ]
  },
  {
   "cell_type": "code",
   "execution_count": 100,
   "id": "eb75c1b7-45cf-4cf8-8c90-e179cf3dd273",
   "metadata": {},
   "outputs": [
    {
     "name": "stdout",
     "output_type": "stream",
     "text": [
      "3.4299999999999997\n"
     ]
    }
   ],
   "source": [
    "num3 = change//ten\n",
    "change = change - (num3 * 10)\n",
    "print(change)"
   ]
  },
  {
   "cell_type": "code",
   "execution_count": 101,
   "id": "e1118033-94b9-41bf-8c51-25b7c078a1b3",
   "metadata": {},
   "outputs": [
    {
     "name": "stdout",
     "output_type": "stream",
     "text": [
      "3.4299999999999997\n"
     ]
    }
   ],
   "source": [
    "num4 = change//twenty\n",
    "change = change - (num4 * 20)\n",
    "print(change)"
   ]
  },
  {
   "cell_type": "code",
   "execution_count": 102,
   "id": "b98a149c-98b1-473c-90a8-cd2e2a3d59f4",
   "metadata": {},
   "outputs": [
    {
     "name": "stdout",
     "output_type": "stream",
     "text": [
      "3.4299999999999997\n"
     ]
    }
   ],
   "source": [
    "num5 = change//five\n",
    "change = change - (num5 * 5)\n",
    "print(change)"
   ]
  },
  {
   "cell_type": "code",
   "execution_count": 103,
   "id": "7d2b80f9-3137-4817-9158-2ca42fc70f1c",
   "metadata": {},
   "outputs": [
    {
     "name": "stdout",
     "output_type": "stream",
     "text": [
      "0.4299999999999997\n"
     ]
    }
   ],
   "source": [
    "num6 = change//one\n",
    "change = change - (num6 * 1)\n",
    "print(change)"
   ]
  },
  {
   "cell_type": "code",
   "execution_count": 104,
   "id": "ec21adfd-54cb-4068-beb0-6cc2bab4f48f",
   "metadata": {},
   "outputs": [
    {
     "name": "stdout",
     "output_type": "stream",
     "text": [
      "0.009999999999999731\n"
     ]
    }
   ],
   "source": [
    "num7 = change//penny\n",
    "change = change - (num7 * .01)\n",
    "print(change)"
   ]
  },
  {
   "cell_type": "code",
   "execution_count": 105,
   "id": "47ccba68-0554-42ef-aa34-74c8a7a3bc84",
   "metadata": {},
   "outputs": [
    {
     "name": "stdout",
     "output_type": "stream",
     "text": [
      "0.009999999999999731\n"
     ]
    }
   ],
   "source": [
    "num8 = change//quarter\n",
    "change = change - (num8 * .25)\n",
    "print(change)"
   ]
  },
  {
   "cell_type": "code",
   "execution_count": 106,
   "id": "ef50d1a7-b19d-42d8-bc73-e8b4abe73db2",
   "metadata": {},
   "outputs": [
    {
     "name": "stdout",
     "output_type": "stream",
     "text": [
      "0.009999999999999731\n"
     ]
    }
   ],
   "source": [
    "num9 = change//dime\n",
    "change = change - (num9 * .10)\n",
    "print(change)"
   ]
  },
  {
   "cell_type": "code",
   "execution_count": 107,
   "id": "488522f2-98a2-410b-9196-d2873c7a3957",
   "metadata": {},
   "outputs": [
    {
     "name": "stdout",
     "output_type": "stream",
     "text": [
      "0.009999999999999731\n"
     ]
    }
   ],
   "source": [
    "num10 = change//nickel\n",
    "change = change - (num10 * .05)\n",
    "print(change)"
   ]
  },
  {
   "cell_type": "code",
   "execution_count": 108,
   "id": "f6daeda2-81a8-492c-a30d-8a9db637e317",
   "metadata": {},
   "outputs": [
    {
     "name": "stdout",
     "output_type": "stream",
     "text": [
      "0.0 1.0 1.0 0.0 0.0 3.0 42.0 0.0 0.0 0.0\n"
     ]
    }
   ],
   "source": [
    "print(num1,num2,num3,num4,num5,num6,num7,num8,num9,num10)"
   ]
  },
  {
   "cell_type": "code",
   "execution_count": 127,
   "id": "1ad31e1b-854b-47f2-87b8-f75683d296ab",
   "metadata": {},
   "outputs": [
    {
     "name": "stdin",
     "output_type": "stream",
     "text": [
      "input tendered:  80\n",
      "input cost:  64.09\n"
     ]
    },
    {
     "name": "stdout",
     "output_type": "stream",
     "text": [
      "15.909999999999997\n"
     ]
    }
   ],
   "source": [
    "tendered = float(input(\"input tendered: \"))\n",
    "cost = float(input(\"input cost: \"))\n",
    "change = tendered - cost\n",
    "print(change)"
   ]
  },
  {
   "cell_type": "code",
   "execution_count": 128,
   "id": "30fe0d18-b4eb-4fcb-8e0f-c2026bd9c9c5",
   "metadata": {},
   "outputs": [],
   "source": [
    "penny = .01\n",
    "quarter =.25\n",
    "dime = .10\n",
    "nickel = .05"
   ]
  },
  {
   "cell_type": "code",
   "execution_count": 129,
   "id": "94518699-88f0-4e84-a271-159c9223a35a",
   "metadata": {},
   "outputs": [],
   "source": [
    "hundred = 100\n",
    "fifty = 50\n",
    "ten = 10\n",
    "twenty = 20\n",
    "five = 5\n",
    "one = 1"
   ]
  },
  {
   "cell_type": "code",
   "execution_count": 130,
   "id": "2add28a1-41fb-4a8c-840b-77135f3f13b4",
   "metadata": {},
   "outputs": [
    {
     "name": "stdout",
     "output_type": "stream",
     "text": [
      "15.909999999999997\n"
     ]
    }
   ],
   "source": [
    "num11 = change//hundred\n",
    "change = change - (num11 * 100)\n",
    "print(change)"
   ]
  },
  {
   "cell_type": "code",
   "execution_count": 131,
   "id": "8516a74d-3c0d-4e94-95e3-081b41aacd8f",
   "metadata": {},
   "outputs": [
    {
     "name": "stdout",
     "output_type": "stream",
     "text": [
      "15.909999999999997\n"
     ]
    }
   ],
   "source": [
    "num12 = change//fifty\n",
    "change = change - (num12 * 50)\n",
    "print(change)"
   ]
  },
  {
   "cell_type": "code",
   "execution_count": 132,
   "id": "2fc45f20-7d66-430d-b078-496520dcf07a",
   "metadata": {},
   "outputs": [
    {
     "name": "stdout",
     "output_type": "stream",
     "text": [
      "5.909999999999997\n"
     ]
    }
   ],
   "source": [
    "num13 = change//ten\n",
    "change = change - (num13 * 10)\n",
    "print(change)"
   ]
  },
  {
   "cell_type": "code",
   "execution_count": 133,
   "id": "02d17141-781b-4b5c-bfaa-a1e99b7a01be",
   "metadata": {},
   "outputs": [
    {
     "name": "stdout",
     "output_type": "stream",
     "text": [
      "5.909999999999997\n"
     ]
    }
   ],
   "source": [
    "num14 = change//twenty\n",
    "change = change - (num14 * 20)\n",
    "print(change)"
   ]
  },
  {
   "cell_type": "code",
   "execution_count": 134,
   "id": "71eac122-9ea2-48fc-8d96-264813a7b523",
   "metadata": {},
   "outputs": [
    {
     "name": "stdout",
     "output_type": "stream",
     "text": [
      "0.9099999999999966\n"
     ]
    }
   ],
   "source": [
    "num15 = change//five\n",
    "change = change - (num15 * 5)\n",
    "print(change)"
   ]
  },
  {
   "cell_type": "code",
   "execution_count": 135,
   "id": "4ce6ff7c-9202-419f-b2ac-1c79de581d5a",
   "metadata": {},
   "outputs": [
    {
     "name": "stdout",
     "output_type": "stream",
     "text": [
      "0.9099999999999966\n"
     ]
    }
   ],
   "source": [
    "num16 = change//one\n",
    "change = change - (num16 * 1)\n",
    "print(change)"
   ]
  },
  {
   "cell_type": "code",
   "execution_count": 136,
   "id": "f5f5a3d8-ea2f-4e65-a3b0-2df42434c87c",
   "metadata": {},
   "outputs": [
    {
     "name": "stdout",
     "output_type": "stream",
     "text": [
      "0.009999999999996567\n"
     ]
    }
   ],
   "source": [
    "num17 = change//penny\n",
    "change = change - (num17 * .01)\n",
    "print(change)"
   ]
  },
  {
   "cell_type": "code",
   "execution_count": 137,
   "id": "2314190d-9f9b-47cd-81fc-4a78f0536544",
   "metadata": {},
   "outputs": [
    {
     "name": "stdout",
     "output_type": "stream",
     "text": [
      "0.009999999999996567\n"
     ]
    }
   ],
   "source": [
    "num18 = change//quarter\n",
    "change = change - (num18 * .25)\n",
    "print(change)"
   ]
  },
  {
   "cell_type": "code",
   "execution_count": 138,
   "id": "a5eb7279-763b-4633-8c35-38576e55e48a",
   "metadata": {},
   "outputs": [
    {
     "name": "stdout",
     "output_type": "stream",
     "text": [
      "0.009999999999996567\n"
     ]
    }
   ],
   "source": [
    "num19 = change//dime\n",
    "change = change - (num19 * .10)\n",
    "print(change)"
   ]
  },
  {
   "cell_type": "code",
   "execution_count": 139,
   "id": "16ec078b-1a2a-48a5-b877-d795453f3749",
   "metadata": {},
   "outputs": [
    {
     "name": "stdout",
     "output_type": "stream",
     "text": [
      "0.009999999999996567\n"
     ]
    }
   ],
   "source": [
    "num20 = change//nickel\n",
    "change = change - (num20 * .05)\n",
    "print(change)"
   ]
  },
  {
   "cell_type": "code",
   "execution_count": 140,
   "id": "6539e726-21e4-4480-be86-2dc42582e3ec",
   "metadata": {},
   "outputs": [
    {
     "name": "stdout",
     "output_type": "stream",
     "text": [
      "0.0 0.0 1.0 0.0 1.0 0.0 90.0 0.0 0.0 0.0\n"
     ]
    }
   ],
   "source": [
    "print(num11,num12,num13,num14,num15,num16,num17,num18,num19,num20)"
   ]
  },
  {
   "cell_type": "code",
   "execution_count": 141,
   "id": "63213238-bc3c-482f-9871-63c7a9105537",
   "metadata": {},
   "outputs": [
    {
     "name": "stdin",
     "output_type": "stream",
     "text": [
      "input tendered:  10\n",
      "input cost:  3.81\n"
     ]
    },
    {
     "name": "stdout",
     "output_type": "stream",
     "text": [
      "6.1899999999999995\n"
     ]
    }
   ],
   "source": [
    "tendered = float(input(\"input tendered: \"))\n",
    "cost = float(input(\"input cost: \"))\n",
    "change = tendered - cost\n",
    "print(change)"
   ]
  },
  {
   "cell_type": "code",
   "execution_count": 142,
   "id": "2bbe680a-78c3-4c97-89d2-766fccd635ed",
   "metadata": {},
   "outputs": [],
   "source": [
    "penny = .01\n",
    "quarter =.25\n",
    "dime = .10\n",
    "nickel = .05"
   ]
  },
  {
   "cell_type": "code",
   "execution_count": 143,
   "id": "2da6ed8f-15db-4e02-bd73-f91f8717edbf",
   "metadata": {},
   "outputs": [],
   "source": [
    "hundred = 100\n",
    "fifty = 50\n",
    "ten = 10\n",
    "twenty = 20\n",
    "five = 5\n",
    "one = 1"
   ]
  },
  {
   "cell_type": "code",
   "execution_count": 144,
   "id": "850c7f33-8724-4a2c-bdce-a4f862e8cbbe",
   "metadata": {},
   "outputs": [
    {
     "name": "stdout",
     "output_type": "stream",
     "text": [
      "6.1899999999999995\n"
     ]
    }
   ],
   "source": [
    "num21 = change//hundred\n",
    "change = change - (num21 * 100)\n",
    "print(change)"
   ]
  },
  {
   "cell_type": "code",
   "execution_count": 145,
   "id": "92a64c9b-b0f7-41fd-bea0-5dab7370f175",
   "metadata": {},
   "outputs": [
    {
     "name": "stdout",
     "output_type": "stream",
     "text": [
      "6.1899999999999995\n"
     ]
    }
   ],
   "source": [
    "num22 = change//fifty\n",
    "change = change - (num22 * 50)\n",
    "print(change)"
   ]
  },
  {
   "cell_type": "code",
   "execution_count": 146,
   "id": "e3593279-ab3d-4bf0-b6f7-dc29ea8af948",
   "metadata": {},
   "outputs": [
    {
     "name": "stdout",
     "output_type": "stream",
     "text": [
      "6.1899999999999995\n"
     ]
    }
   ],
   "source": [
    "num23 = change//twenty\n",
    "change = change - (num22 * 20)\n",
    "print(change)"
   ]
  },
  {
   "cell_type": "code",
   "execution_count": 147,
   "id": "3ed4e2f6-d290-430a-914e-c51bf7b66a70",
   "metadata": {},
   "outputs": [
    {
     "name": "stdout",
     "output_type": "stream",
     "text": [
      "6.1899999999999995\n"
     ]
    }
   ],
   "source": [
    "num24 = change//ten\n",
    "change = change - (num24 * 10)\n",
    "print(change)"
   ]
  },
  {
   "cell_type": "code",
   "execution_count": 148,
   "id": "a477c7a8-320f-4d42-9109-880173620b34",
   "metadata": {},
   "outputs": [
    {
     "name": "stdout",
     "output_type": "stream",
     "text": [
      "1.1899999999999995\n"
     ]
    }
   ],
   "source": [
    "num25 = change//five\n",
    "change = change - (num25 * 5)\n",
    "print(change)"
   ]
  },
  {
   "cell_type": "code",
   "execution_count": 149,
   "id": "77400dc8-231f-4e81-b283-ada3088b4eab",
   "metadata": {},
   "outputs": [
    {
     "name": "stdout",
     "output_type": "stream",
     "text": [
      "0.1899999999999995\n"
     ]
    }
   ],
   "source": [
    "num26 = change//one\n",
    "change = change - (num26 * 1)\n",
    "print(change)"
   ]
  },
  {
   "cell_type": "code",
   "execution_count": 150,
   "id": "ded96ef0-0b88-42c2-b55a-b36c8faff71b",
   "metadata": {},
   "outputs": [
    {
     "name": "stdout",
     "output_type": "stream",
     "text": [
      "0.00999999999999951\n"
     ]
    }
   ],
   "source": [
    "num27 = change//penny\n",
    "change = change - (num27 * .01)\n",
    "print(change)"
   ]
  },
  {
   "cell_type": "code",
   "execution_count": 151,
   "id": "4f81e381-51d5-4bc1-91eb-49da723e4875",
   "metadata": {},
   "outputs": [
    {
     "name": "stdout",
     "output_type": "stream",
     "text": [
      "0.00999999999999951\n"
     ]
    }
   ],
   "source": [
    "num28 = change//quarter\n",
    "change = change - (num28 * .25)\n",
    "print(change)"
   ]
  },
  {
   "cell_type": "code",
   "execution_count": 152,
   "id": "91250b5d-05ff-483a-bfad-bcac26936b08",
   "metadata": {},
   "outputs": [
    {
     "name": "stdout",
     "output_type": "stream",
     "text": [
      "0.00999999999999951\n"
     ]
    }
   ],
   "source": [
    "num29 = change//dime\n",
    "change = change - (num29 * .10)\n",
    "print(change)"
   ]
  },
  {
   "cell_type": "code",
   "execution_count": 153,
   "id": "8c27791e-a0b8-4a1f-a803-0fe9c029ed62",
   "metadata": {},
   "outputs": [
    {
     "name": "stdout",
     "output_type": "stream",
     "text": [
      "0.00999999999999951\n"
     ]
    }
   ],
   "source": [
    "num30 = change//nickel\n",
    "change = change - (num30 * .05)\n",
    "print(change)"
   ]
  },
  {
   "cell_type": "code",
   "execution_count": 154,
   "id": "96bbf732-9469-4c96-a2d0-fbd113c7fae2",
   "metadata": {},
   "outputs": [
    {
     "name": "stdout",
     "output_type": "stream",
     "text": [
      "0.0 0.0 0.0 0.0 1.0 1.0 18.0 0.0 0.0 0.0\n"
     ]
    }
   ],
   "source": [
    "print(num21,num22,num23,num24,num25,num26,num27,num28,num29,num30)"
   ]
  },
  {
   "cell_type": "code",
   "execution_count": 155,
   "id": "968c163b-799f-4777-848a-49c6c6925193",
   "metadata": {},
   "outputs": [
    {
     "name": "stdin",
     "output_type": "stream",
     "text": [
      "input tendered:  50\n",
      "input cost:  14.36\n"
     ]
    },
    {
     "name": "stdout",
     "output_type": "stream",
     "text": [
      "35.64\n"
     ]
    }
   ],
   "source": [
    "tendered = float(input(\"input tendered: \"))\n",
    "cost = float(input(\"input cost: \"))\n",
    "change = tendered - cost\n",
    "print(change)"
   ]
  },
  {
   "cell_type": "code",
   "execution_count": 156,
   "id": "d9c9b7c9-d501-4822-9379-9e9d3f9faa5e",
   "metadata": {},
   "outputs": [],
   "source": [
    "penny = .01\n",
    "quarter =.25\n",
    "dime = .10\n",
    "nickel = .05"
   ]
  },
  {
   "cell_type": "code",
   "execution_count": 157,
   "id": "db7a7372-4f9e-4f6d-a83b-d70f69f0b5c4",
   "metadata": {},
   "outputs": [],
   "source": [
    "hundred = 100\n",
    "fifty = 50\n",
    "ten = 10\n",
    "twenty = 20\n",
    "five = 5\n",
    "one = 1"
   ]
  },
  {
   "cell_type": "code",
   "execution_count": 158,
   "id": "0c71aeee-c800-4fc1-be4b-9ebd9d8738e6",
   "metadata": {},
   "outputs": [
    {
     "name": "stdout",
     "output_type": "stream",
     "text": [
      "35.64\n"
     ]
    }
   ],
   "source": [
    "num31 = change//hundred\n",
    "change = change - (num31 * 100)\n",
    "print(change)"
   ]
  },
  {
   "cell_type": "code",
   "execution_count": 159,
   "id": "36078047-1b08-4a5d-86dd-73ba821e4c7f",
   "metadata": {},
   "outputs": [
    {
     "name": "stdout",
     "output_type": "stream",
     "text": [
      "35.64\n"
     ]
    }
   ],
   "source": [
    "num32 = change//fifty\n",
    "change = change - (num32 * 50)\n",
    "print(change)"
   ]
  },
  {
   "cell_type": "code",
   "execution_count": 160,
   "id": "292cc6fe-b8ba-4fd0-87be-17aac598712e",
   "metadata": {},
   "outputs": [
    {
     "name": "stdout",
     "output_type": "stream",
     "text": [
      "15.64\n"
     ]
    }
   ],
   "source": [
    "num33 = change//twenty\n",
    "change = change - (num33 * 20)\n",
    "print(change)"
   ]
  },
  {
   "cell_type": "code",
   "execution_count": 161,
   "id": "df560ad2-aeb2-49b8-853d-5b7f82fbcc6b",
   "metadata": {},
   "outputs": [
    {
     "name": "stdout",
     "output_type": "stream",
     "text": [
      "5.640000000000001\n"
     ]
    }
   ],
   "source": [
    "num34 = change//ten\n",
    "change = change - (num34 * 10)\n",
    "print(change)"
   ]
  },
  {
   "cell_type": "code",
   "execution_count": 162,
   "id": "8f2a5254-3dc5-46e4-8af3-66093d03205e",
   "metadata": {},
   "outputs": [
    {
     "name": "stdout",
     "output_type": "stream",
     "text": [
      "0.6400000000000006\n"
     ]
    }
   ],
   "source": [
    "num35 = change//five\n",
    "change = change - (num35 * 5)\n",
    "print(change)"
   ]
  },
  {
   "cell_type": "code",
   "execution_count": 163,
   "id": "350b1c3d-aba0-40a2-93f5-59255cbc98bf",
   "metadata": {},
   "outputs": [
    {
     "name": "stdout",
     "output_type": "stream",
     "text": [
      "0.6400000000000006\n"
     ]
    }
   ],
   "source": [
    "num36 = change//one\n",
    "change = change - (num36 * 1)\n",
    "print(change)"
   ]
  },
  {
   "cell_type": "code",
   "execution_count": 164,
   "id": "00d5a1e3-b241-4460-8f88-853dc23945de",
   "metadata": {},
   "outputs": [
    {
     "name": "stdout",
     "output_type": "stream",
     "text": [
      "5.551115123125783e-16\n"
     ]
    }
   ],
   "source": [
    "num37 = change//penny\n",
    "change = change - (num37 * .01)\n",
    "print(change)"
   ]
  },
  {
   "cell_type": "code",
   "execution_count": 165,
   "id": "e779b1fb-a73f-41d5-bf0e-e6a2d53ca9c0",
   "metadata": {},
   "outputs": [
    {
     "name": "stdout",
     "output_type": "stream",
     "text": [
      "5.551115123125783e-16\n"
     ]
    }
   ],
   "source": [
    "num38 = change//quarter\n",
    "change = change - (num38 * .25)\n",
    "print(change)"
   ]
  },
  {
   "cell_type": "code",
   "execution_count": 166,
   "id": "5f21d5e6-b4ed-47f9-997c-da0327238669",
   "metadata": {},
   "outputs": [
    {
     "name": "stdout",
     "output_type": "stream",
     "text": [
      "5.551115123125783e-16\n"
     ]
    }
   ],
   "source": [
    "num39 = change//dime\n",
    "change = change - (num39 * .10)\n",
    "print(change)"
   ]
  },
  {
   "cell_type": "code",
   "execution_count": 167,
   "id": "27b93dc9-4f4a-4ecf-89e8-47e4b6313ff4",
   "metadata": {},
   "outputs": [
    {
     "name": "stdout",
     "output_type": "stream",
     "text": [
      "5.551115123125783e-16\n"
     ]
    }
   ],
   "source": [
    "num40 = change//nickel\n",
    "change = change - (num40 * .05)\n",
    "print(change)"
   ]
  },
  {
   "cell_type": "code",
   "execution_count": 168,
   "id": "7f710608-23f8-4431-95ab-22a0c42e73ba",
   "metadata": {
    "scrolled": true
   },
   "outputs": [
    {
     "name": "stdout",
     "output_type": "stream",
     "text": [
      "0.0 0.0 1.0 1.0 1.0 0.0 64.0 0.0 0.0 0.0\n"
     ]
    }
   ],
   "source": [
    "print(num31,num32,num33,num34,num35,num36,num37,num38,num39,num40)"
   ]
  },
  {
   "cell_type": "code",
   "execution_count": null,
   "id": "511c368a-c472-4bd9-ab6d-170a56f06cf0",
   "metadata": {},
   "outputs": [],
   "source": [
    "Question 2:"
   ]
  },
  {
   "cell_type": "code",
   "execution_count": 193,
   "id": "768c771c-c0d0-48e0-a33b-4e762d49ea4b",
   "metadata": {},
   "outputs": [
    {
     "name": "stdout",
     "output_type": "stream",
     "text": [
      "(0.5555555555555556, 66.6)\n"
     ]
    }
   ],
   "source": [
    "Fahren = 98.6\n",
    "c = (5/9),(Fahren - 32)\n",
    "print(c)"
   ]
  },
  {
   "cell_type": "code",
   "execution_count": 195,
   "id": "e0d033ba-72dc-4dc3-8815-0b903d35db02",
   "metadata": {},
   "outputs": [
    {
     "name": "stdout",
     "output_type": "stream",
     "text": [
      "(1.8, 88.69999999999999)\n"
     ]
    }
   ],
   "source": [
    "K = 329.7\n",
    "F = (9/5),(K - 273) + 32\n",
    "print(F)"
   ]
  },
  {
   "cell_type": "code",
   "execution_count": 199,
   "id": "780b882b-0865-4d2e-91da-4afca7af72b7",
   "metadata": {},
   "outputs": [
    {
     "name": "stdout",
     "output_type": "stream",
     "text": [
      "212.1\n"
     ]
    }
   ],
   "source": [
    "Celsius = -60.9\n",
    "K = Celsius + 273\n",
    "print(K)"
   ]
  },
  {
   "cell_type": "code",
   "execution_count": null,
   "id": "880cd8f4-bee4-48a4-a234-4889c8f988f4",
   "metadata": {},
   "outputs": [],
   "source": []
  }
 ],
 "metadata": {
  "kernelspec": {
   "display_name": "Python 3 (ipykernel)",
   "language": "python",
   "name": "python3"
  },
  "language_info": {
   "codemirror_mode": {
    "name": "ipython",
    "version": 3
   },
   "file_extension": ".py",
   "mimetype": "text/x-python",
   "name": "python",
   "nbconvert_exporter": "python",
   "pygments_lexer": "ipython3",
   "version": "3.11.5"
  }
 },
 "nbformat": 4,
 "nbformat_minor": 5
}
